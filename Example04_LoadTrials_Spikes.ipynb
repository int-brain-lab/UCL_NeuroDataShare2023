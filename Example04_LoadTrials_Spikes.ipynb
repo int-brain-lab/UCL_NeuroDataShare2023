{
 "cells": [
  {
   "cell_type": "code",
   "execution_count": 11,
   "id": "239b030d",
   "metadata": {},
   "outputs": [
    {
     "data": {
      "text/plain": [
       "SessionLoader(one=One (online, https://alyx.internationalbrainlab.org), session_path=WindowsPath('K:/Flatiron/ONE/alyx.internationalbrainlab.org/angelakilab/Subjects/NYU-11/2020-02-18/001'), eid='6713a4a7-faed-4df2-acab-ee4e63326f8d')"
      ]
     },
     "execution_count": 11,
     "metadata": {},
     "output_type": "execute_result"
    }
   ],
   "source": [
    "# import session loader\n",
    "from one.api import ONE\n",
    "from brainbox.io.one import SessionLoader\n",
    "one = ONE() \n",
    "eid='6713a4a7-faed-4df2-acab-ee4e63326f8d'\n",
    "# instantiate session loader\n",
    "sess_loader = SessionLoader(one=one, eid=eid)"
   ]
  },
  {
   "cell_type": "code",
   "execution_count": 13,
   "id": "f017f710",
   "metadata": {},
   "outputs": [
    {
     "data": {
      "text/plain": [
       "Index(['stimOff_times', 'goCueTrigger_times', 'intervals_bpod_0',\n",
       "       'intervals_bpod_1', 'firstMovement_times', 'goCue_times',\n",
       "       'probabilityLeft', 'response_times', 'feedbackType', 'rewardVolume',\n",
       "       'contrastRight', 'choice', 'feedback_times', 'stimOn_times',\n",
       "       'contrastLeft', 'intervals_0', 'intervals_1'],\n",
       "      dtype='object')"
      ]
     },
     "execution_count": 13,
     "metadata": {},
     "output_type": "execute_result"
    }
   ],
   "source": [
    "# 1 LOAD TRIAL AND WHEEL DATA\n",
    "# Load in trials data\n",
    "sess_loader.load_trials()\n",
    "\n",
    "# Load in wheel data\n",
    "sess_loader.load_wheel()\n",
    "\n",
    "sess_loader.data_info\n",
    "\n",
    "sess_loader.trials.keys()"
   ]
  },
  {
   "cell_type": "code",
   "execution_count": 19,
   "id": "f1ea17a2",
   "metadata": {},
   "outputs": [
    {
     "data": {
      "text/plain": [
       "{'depths': array([439.90316772, 273.93023682, 445.34341431, ...,  28.31001663,\n",
       "        191.40383911,  41.63357162]),\n",
       " 'clusters': array([ 99,  64, 324, ...,   6,  28,   9], dtype=uint32),\n",
       " 'times': array([8.38230849e-03, 1.27823046e-02, 1.41823034e-02, ...,\n",
       "        4.68878040e+03, 4.68878233e+03, 4.68878343e+03]),\n",
       " 'amps': array([1.48818473e-04, 7.21604797e-05, 7.99972536e-05, ...,\n",
       "        1.45808202e-04, 8.26257018e-05, 1.57378919e-04])}"
      ]
     },
     "execution_count": 19,
     "metadata": {},
     "output_type": "execute_result"
    }
   ],
   "source": [
    "# 2. Load spikes; YOU NEED PID\n",
    "\n",
    "# import spikesorting loader\n",
    "from brainbox.io.one import SpikeSortingLoader\n",
    "\n",
    "pid='56f2a378-78d2-4132-b3c8-8c1ba82be598'\n",
    "pname='probe00'\n",
    "# instantiate with a pid\n",
    "spike_loader = SpikeSortingLoader(pid=pid, one=one)\n",
    "\n",
    "# alternatively instantiate with an eid and probe name\n",
    "spike_loader = SpikeSortingLoader(eid=eid, one=one, pname=pname)\n",
    "\n",
    "# Download and load data\n",
    "spikes, clusters, channels = spike_loader.load_spike_sorting()\n",
    "# Assign brain location information from channels to clusters\n",
    "clusters = spike_loader.merge_clusters(spikes, clusters, channels)\n",
    "spikes"
   ]
  },
  {
   "cell_type": "code",
   "execution_count": 21,
   "id": "52cb9c9a",
   "metadata": {},
   "outputs": [
    {
     "data": {
      "text/plain": [
       "dict_keys(['uuids', 'depths', 'channels', 'cluster_id', 'amp_max', 'amp_min', 'amp_median', 'amp_std_dB', 'contamination', 'contamination_alt', 'drift', 'missed_spikes_est', 'noise_cutoff', 'presence_ratio', 'presence_ratio_std', 'slidingRP_viol', 'spike_count', 'firing_rate', 'label', 'x', 'y', 'z', 'acronym', 'atlas_id', 'axial_um', 'lateral_um'])"
      ]
     },
     "execution_count": 21,
     "metadata": {},
     "output_type": "execute_result"
    }
   ],
   "source": [
    "clusters.keys()"
   ]
  },
  {
   "cell_type": "code",
   "execution_count": null,
   "id": "59093ba1",
   "metadata": {},
   "outputs": [],
   "source": []
  }
 ],
 "metadata": {
  "kernelspec": {
   "display_name": "Python 3 (ipykernel)",
   "language": "python",
   "name": "python3"
  },
  "language_info": {
   "codemirror_mode": {
    "name": "ipython",
    "version": 3
   },
   "file_extension": ".py",
   "mimetype": "text/x-python",
   "name": "python",
   "nbconvert_exporter": "python",
   "pygments_lexer": "ipython3",
   "version": "3.9.16"
  }
 },
 "nbformat": 4,
 "nbformat_minor": 5
}

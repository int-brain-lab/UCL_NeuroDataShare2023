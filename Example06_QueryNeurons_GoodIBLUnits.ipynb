{
 "cells": [
  {
   "cell_type": "code",
   "execution_count": 3,
   "id": "02e0fb97",
   "metadata": {},
   "outputs": [
    {
     "data": {
      "text/plain": [
       "array([  0,   5,  61,  71, 193, 263, 283, 296, 303, 320, 323, 343, 380,\n",
       "       387, 390, 409, 421, 432, 463], dtype=int64)"
      ]
     },
     "execution_count": 3,
     "metadata": {},
     "output_type": "execute_result"
    }
   ],
   "source": [
    "## Filter neurons to only analysis IBLGood Units (use IBL criteria) \n",
    "from one.api import ONE\n",
    "from brainbox.io.one import SpikeSortingLoader\n",
    "from ibllib.atlas import AllenAtlas\n",
    "\n",
    "one = ONE()\n",
    "ba = AllenAtlas()\n",
    "\n",
    "pid='05ec6af9-6c83-422d-91a3-ba815fa65e92'\n",
    "#LOAD SPIKES\n",
    "sl = SpikeSortingLoader(pid=pid, one=one, atlas=ba)\n",
    "spikes, clusters, channels = sl.load_spike_sorting()\n",
    "clusters = sl.merge_clusters(spikes, clusters, channels)\n",
    "\n",
    "#Filter GOOD - IBL - UNITS label==1\n",
    "good_clusterIDs = clusters['cluster_id'][clusters['label'] == 1] \n",
    "good_clusterIDs"
   ]
  }
 ],
 "metadata": {
  "kernelspec": {
   "display_name": "Python 3 (ipykernel)",
   "language": "python",
   "name": "python3"
  },
  "language_info": {
   "codemirror_mode": {
    "name": "ipython",
    "version": 3
   },
   "file_extension": ".py",
   "mimetype": "text/x-python",
   "name": "python",
   "nbconvert_exporter": "python",
   "pygments_lexer": "ipython3",
   "version": "3.9.16"
  }
 },
 "nbformat": 4,
 "nbformat_minor": 5
}

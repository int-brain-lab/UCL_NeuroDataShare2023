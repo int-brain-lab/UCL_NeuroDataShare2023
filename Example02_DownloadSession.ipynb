{
 "cells": [
  {
   "cell_type": "code",
   "execution_count": 1,
   "id": "ce8b3d22",
   "metadata": {},
   "outputs": [
    {
     "name": "stdout",
     "output_type": "stream",
     "text": [
      "Downloading: K:\\Flatiron\\ONE\\alyx.internationalbrainlab.org\\tmpnmp6m81p\\cache.zip Bytes: 90313069\n"
     ]
    },
    {
     "name": "stderr",
     "output_type": "stream",
     "text": [
      "100%|████████████████████████████████████████████████████| 86.12925434112549/86.12925434112549 [01:52<00:00,  1.30s/it]\n"
     ]
    }
   ],
   "source": [
    "from brainwidemap import bwm_query\n",
    "import numpy as np\n",
    "from one.api import ONE\n",
    "from brainbox.population.decode import get_spike_counts_in_bins\n",
    "from brainbox.io.one import SpikeSortingLoader, SessionLoader\n",
    "from ibllib.atlas import AllenAtlas\n"
   ]
  },
  {
   "cell_type": "code",
   "execution_count": 11,
   "id": "588dadc6",
   "metadata": {},
   "outputs": [
    {
     "name": "stdout",
     "output_type": "stream",
     "text": [
      "Loading bwm_query results from fixtures/2022_10_bwm_release.csv\n"
     ]
    }
   ],
   "source": [
    "from brainwidemap import bwm_query\n",
    "import numpy as np\n",
    "from one.api import ONE\n",
    "one = ONE() \n",
    "ba = AllenAtlas()\n",
    "\n",
    "# load info about all released sessions\n",
    "bwm_df=bwm_query(one=None, alignment_resolved=True, return_details=False, freeze='2022_10_bwm_release')"
   ]
  },
  {
   "cell_type": "code",
   "execution_count": 10,
   "id": "4f935a1f",
   "metadata": {},
   "outputs": [
    {
     "data": {
      "text/html": [
       "<div>\n",
       "<style scoped>\n",
       "    .dataframe tbody tr th:only-of-type {\n",
       "        vertical-align: middle;\n",
       "    }\n",
       "\n",
       "    .dataframe tbody tr th {\n",
       "        vertical-align: top;\n",
       "    }\n",
       "\n",
       "    .dataframe thead th {\n",
       "        text-align: right;\n",
       "    }\n",
       "</style>\n",
       "<table border=\"1\" class=\"dataframe\">\n",
       "  <thead>\n",
       "    <tr style=\"text-align: right;\">\n",
       "      <th></th>\n",
       "      <th>pid</th>\n",
       "      <th>eid</th>\n",
       "      <th>probe_name</th>\n",
       "      <th>session_number</th>\n",
       "      <th>date</th>\n",
       "      <th>subject</th>\n",
       "      <th>lab</th>\n",
       "    </tr>\n",
       "  </thead>\n",
       "  <tbody>\n",
       "    <tr>\n",
       "      <th>0</th>\n",
       "      <td>56f2a378-78d2-4132-b3c8-8c1ba82be598</td>\n",
       "      <td>6713a4a7-faed-4df2-acab-ee4e63326f8d</td>\n",
       "      <td>probe00</td>\n",
       "      <td>1</td>\n",
       "      <td>2020-02-18</td>\n",
       "      <td>NYU-11</td>\n",
       "      <td>angelakilab</td>\n",
       "    </tr>\n",
       "    <tr>\n",
       "      <th>1</th>\n",
       "      <td>47be9ae4-290f-46ab-b047-952bc3a1a509</td>\n",
       "      <td>56956777-dca5-468c-87cb-78150432cc57</td>\n",
       "      <td>probe01</td>\n",
       "      <td>1</td>\n",
       "      <td>2020-02-21</td>\n",
       "      <td>NYU-11</td>\n",
       "      <td>angelakilab</td>\n",
       "    </tr>\n",
       "    <tr>\n",
       "      <th>2</th>\n",
       "      <td>6be21156-33b0-4f70-9a0f-65b3e3cd6d4a</td>\n",
       "      <td>56956777-dca5-468c-87cb-78150432cc57</td>\n",
       "      <td>probe00</td>\n",
       "      <td>1</td>\n",
       "      <td>2020-02-21</td>\n",
       "      <td>NYU-11</td>\n",
       "      <td>angelakilab</td>\n",
       "    </tr>\n",
       "    <tr>\n",
       "      <th>3</th>\n",
       "      <td>1e176f17-d00f-49bb-87ff-26d237b525f1</td>\n",
       "      <td>a8a8af78-16de-4841-ab07-fde4b5281a03</td>\n",
       "      <td>probe00</td>\n",
       "      <td>1</td>\n",
       "      <td>2020-01-22</td>\n",
       "      <td>NYU-12</td>\n",
       "      <td>angelakilab</td>\n",
       "    </tr>\n",
       "    <tr>\n",
       "      <th>4</th>\n",
       "      <td>701026df-e170-4ca7-88aa-eb0b95ef6ba1</td>\n",
       "      <td>a8a8af78-16de-4841-ab07-fde4b5281a03</td>\n",
       "      <td>probe01</td>\n",
       "      <td>1</td>\n",
       "      <td>2020-01-22</td>\n",
       "      <td>NYU-12</td>\n",
       "      <td>angelakilab</td>\n",
       "    </tr>\n",
       "    <tr>\n",
       "      <th>...</th>\n",
       "      <td>...</td>\n",
       "      <td>...</td>\n",
       "      <td>...</td>\n",
       "      <td>...</td>\n",
       "      <td>...</td>\n",
       "      <td>...</td>\n",
       "      <td>...</td>\n",
       "    </tr>\n",
       "    <tr>\n",
       "      <th>542</th>\n",
       "      <td>8bf0f1a4-0d8c-4df3-a99e-f7c81c809652</td>\n",
       "      <td>993c7024-0abc-4028-ad30-d397ad55b084</td>\n",
       "      <td>probe01</td>\n",
       "      <td>1</td>\n",
       "      <td>2020-09-16</td>\n",
       "      <td>CSH_ZAD_029</td>\n",
       "      <td>zadorlab</td>\n",
       "    </tr>\n",
       "    <tr>\n",
       "      <th>543</th>\n",
       "      <td>5d570bf6-a4c6-4bf1-a14b-2c878c84ef0e</td>\n",
       "      <td>fece187f-b47f-4870-a1d6-619afe942a7d</td>\n",
       "      <td>probe01</td>\n",
       "      <td>1</td>\n",
       "      <td>2020-09-17</td>\n",
       "      <td>CSH_ZAD_029</td>\n",
       "      <td>zadorlab</td>\n",
       "    </tr>\n",
       "    <tr>\n",
       "      <th>544</th>\n",
       "      <td>f7c93877-ec05-4091-a003-e69fae0f2fa8</td>\n",
       "      <td>fece187f-b47f-4870-a1d6-619afe942a7d</td>\n",
       "      <td>probe00</td>\n",
       "      <td>1</td>\n",
       "      <td>2020-09-17</td>\n",
       "      <td>CSH_ZAD_029</td>\n",
       "      <td>zadorlab</td>\n",
       "    </tr>\n",
       "    <tr>\n",
       "      <th>545</th>\n",
       "      <td>675952a4-e8b3-4e82-a179-cc970d5a8b01</td>\n",
       "      <td>c7bd79c9-c47e-4ea5-aea3-74dda991b48e</td>\n",
       "      <td>probe01</td>\n",
       "      <td>1</td>\n",
       "      <td>2020-09-19</td>\n",
       "      <td>CSH_ZAD_029</td>\n",
       "      <td>zadorlab</td>\n",
       "    </tr>\n",
       "    <tr>\n",
       "      <th>546</th>\n",
       "      <td>79f44ba1-c931-4346-82eb-f628a9374045</td>\n",
       "      <td>c7bd79c9-c47e-4ea5-aea3-74dda991b48e</td>\n",
       "      <td>probe00</td>\n",
       "      <td>1</td>\n",
       "      <td>2020-09-19</td>\n",
       "      <td>CSH_ZAD_029</td>\n",
       "      <td>zadorlab</td>\n",
       "    </tr>\n",
       "  </tbody>\n",
       "</table>\n",
       "<p>547 rows × 7 columns</p>\n",
       "</div>"
      ],
      "text/plain": [
       "                                      pid  \\\n",
       "0    56f2a378-78d2-4132-b3c8-8c1ba82be598   \n",
       "1    47be9ae4-290f-46ab-b047-952bc3a1a509   \n",
       "2    6be21156-33b0-4f70-9a0f-65b3e3cd6d4a   \n",
       "3    1e176f17-d00f-49bb-87ff-26d237b525f1   \n",
       "4    701026df-e170-4ca7-88aa-eb0b95ef6ba1   \n",
       "..                                    ...   \n",
       "542  8bf0f1a4-0d8c-4df3-a99e-f7c81c809652   \n",
       "543  5d570bf6-a4c6-4bf1-a14b-2c878c84ef0e   \n",
       "544  f7c93877-ec05-4091-a003-e69fae0f2fa8   \n",
       "545  675952a4-e8b3-4e82-a179-cc970d5a8b01   \n",
       "546  79f44ba1-c931-4346-82eb-f628a9374045   \n",
       "\n",
       "                                      eid probe_name  session_number  \\\n",
       "0    6713a4a7-faed-4df2-acab-ee4e63326f8d    probe00               1   \n",
       "1    56956777-dca5-468c-87cb-78150432cc57    probe01               1   \n",
       "2    56956777-dca5-468c-87cb-78150432cc57    probe00               1   \n",
       "3    a8a8af78-16de-4841-ab07-fde4b5281a03    probe00               1   \n",
       "4    a8a8af78-16de-4841-ab07-fde4b5281a03    probe01               1   \n",
       "..                                    ...        ...             ...   \n",
       "542  993c7024-0abc-4028-ad30-d397ad55b084    probe01               1   \n",
       "543  fece187f-b47f-4870-a1d6-619afe942a7d    probe01               1   \n",
       "544  fece187f-b47f-4870-a1d6-619afe942a7d    probe00               1   \n",
       "545  c7bd79c9-c47e-4ea5-aea3-74dda991b48e    probe01               1   \n",
       "546  c7bd79c9-c47e-4ea5-aea3-74dda991b48e    probe00               1   \n",
       "\n",
       "           date      subject          lab  \n",
       "0    2020-02-18       NYU-11  angelakilab  \n",
       "1    2020-02-21       NYU-11  angelakilab  \n",
       "2    2020-02-21       NYU-11  angelakilab  \n",
       "3    2020-01-22       NYU-12  angelakilab  \n",
       "4    2020-01-22       NYU-12  angelakilab  \n",
       "..          ...          ...          ...  \n",
       "542  2020-09-16  CSH_ZAD_029     zadorlab  \n",
       "543  2020-09-17  CSH_ZAD_029     zadorlab  \n",
       "544  2020-09-17  CSH_ZAD_029     zadorlab  \n",
       "545  2020-09-19  CSH_ZAD_029     zadorlab  \n",
       "546  2020-09-19  CSH_ZAD_029     zadorlab  \n",
       "\n",
       "[547 rows x 7 columns]"
      ]
     },
     "execution_count": 10,
     "metadata": {},
     "output_type": "execute_result"
    }
   ],
   "source": [
    "bwm_df"
   ]
  },
  {
   "cell_type": "code",
   "execution_count": 54,
   "id": "4a80f5cf",
   "metadata": {},
   "outputs": [
    {
     "data": {
      "text/plain": [
       "dict_keys(['stimOff_times', 'goCueTrigger_times', 'intervals_bpod', 'firstMovement_times', 'goCue_times', 'probabilityLeft', 'response_times', 'feedbackType', 'rewardVolume', 'contrastRight', 'choice', 'feedback_times', 'stimOn_times', 'contrastLeft', 'intervals'])"
      ]
     },
     "execution_count": 54,
     "metadata": {},
     "output_type": "execute_result"
    }
   ],
   "source": [
    "eid=bwm_df['eid'][0]"
   ]
  },
  {
   "cell_type": "code",
   "execution_count": 62,
   "id": "58722126",
   "metadata": {},
   "outputs": [
    {
     "name": "stdout",
     "output_type": "stream",
     "text": [
      "['alf/probe01/pykilosort', 'alf/probe00', 'alf/probe00/pykilosort', 'alf/probe01', 'raw_ephys_data/probe00', 'raw_ephys_data/probe01', 'alf', 'raw_passive_data', 'raw_ephys_data', 'raw_behavior_data', 'spike_sorters/pykilosort/probe01', 'raw_video_data', 'spike_sorters/pykilosort/probe00', 'spike_sorters/ks2_matlab/probe00', 'spike_sorters/ks2_matlab/probe01']\n"
     ]
    }
   ],
   "source": [
    "# 1. USE one.list_collections\n",
    "# The format of the returned datasets gives the path of the collection followed by the dataset. \n",
    "# e.g in the case of alf/trials.table.pqt, alf is the collection and trials.table.pqt is the dataset. \n",
    "# The collection is important as it differentiates datasets with the same name e.g spikes.times \n",
    "# in alf/probe00/pykilosort and spikes.times in alf/probe01/pykilosort.\n",
    "\n",
    "# The unique group of collections that belong to a session can be listed using the one.list_collections method,\n",
    "\n",
    "collections = one.list_collections(eid)\n",
    "print(collections)\n",
    "\n",
    "eid='6713a4a7-faed-4df2-acab-ee4e63326f8d'\n",
    "files = one.load_collection(eid, 'alf', download_only=True)\n",
    "\n",
    "# Download all data in alf collection for specific probe\n",
    "insertion = one.alyx.rest('insertions', 'list', session=eid)[0]\n",
    "probe_label = insertion['name']\n",
    "files = one.load_collection(eid, f'alf/{probe_label}/pykilosort', download_only=True)"
   ]
  },
  {
   "cell_type": "code",
   "execution_count": null,
   "id": "6a2526fa",
   "metadata": {},
   "outputs": [],
   "source": [
    "# 2. USE one.load_dataset\n",
    "# A single dataset can be downloaded and loaded into memory by passing in \n",
    "# the eid and dataset as arguemnts into the one.load_dataset method,\n",
    "\n",
    "# Download and load the left camera timestamps\n",
    "left_cam_times = one.load_dataset(eid, '_ibl_leftCamera.times.npy')\n",
    "\n",
    "# Download and load the spikes times for probe00\n",
    "spike_times = one.load_dataset(eid, 'spikes.times.npy', collection='alf/probe00/pykilosort')\n",
    "\n",
    "wheel_times = one.load_dataset(eid, '_ibl_wheel.timestamps.npy')"
   ]
  },
  {
   "cell_type": "code",
   "execution_count": 67,
   "id": "7a7e0a75",
   "metadata": {},
   "outputs": [],
   "source": [
    "# 3. USE one.load_object\n",
    "# A group of attributes (e.g amps, depths, metrics) belonging to the same object (e.g clusters) \n",
    "# can be downloaded and loaded in one command using the one.load_object method\n",
    "\n",
    "# Load in all trials datasets\n",
    "trials = one.load_object(eid, 'trials', collection='alf')\n",
    "# Load wheel datasets\n",
    "wheel = one.load_object(eid, 'wheel', collection='alf')\n",
    "\n",
    "# Only download the clusters object for probe01\n",
    "clusters = one.load_object(eid, 'clusters', collection=f'alf/{pname}/pykilosort', download_only=True)\n",
    "\n",
    "# Only download the spikes object for probe01\n",
    "spikes = one.load_object(eid, 'spikes', collection=f'alf/{pname}/pykilosort',  download_only=True)"
   ]
  },
  {
   "cell_type": "code",
   "execution_count": null,
   "id": "0deeaa77",
   "metadata": {},
   "outputs": [],
   "source": []
  },
  {
   "cell_type": "code",
   "execution_count": null,
   "id": "722ded3e",
   "metadata": {},
   "outputs": [],
   "source": []
  }
 ],
 "metadata": {
  "kernelspec": {
   "display_name": "Python 3 (ipykernel)",
   "language": "python",
   "name": "python3"
  },
  "language_info": {
   "codemirror_mode": {
    "name": "ipython",
    "version": 3
   },
   "file_extension": ".py",
   "mimetype": "text/x-python",
   "name": "python",
   "nbconvert_exporter": "python",
   "pygments_lexer": "ipython3",
   "version": "3.9.16"
  }
 },
 "nbformat": 4,
 "nbformat_minor": 5
}

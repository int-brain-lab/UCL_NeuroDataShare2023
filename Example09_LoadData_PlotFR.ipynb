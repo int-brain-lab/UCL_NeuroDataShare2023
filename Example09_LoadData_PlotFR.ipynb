{
 "cells": [
  {
   "cell_type": "code",
   "execution_count": null,
   "id": "eb1354bf",
   "metadata": {},
   "outputs": [],
   "source": [
    "# Example 09: Characterising the electrophysiology data of a single insertion\n",
    "#In this example we show how to\n",
    "\n",
    "#1. Load in spikesorting data for a single insertion data\n",
    "#2. Evaluate the number of good clusters\n",
    "#3. Find the location of good clusters in the brain\n",
    "#4. Compute the firing rate of each cluster\n",
    "#5. Plot the firing rate of good clusters alongside their brain location"
   ]
  },
  {
   "cell_type": "code",
   "execution_count": 2,
   "id": "8a7d4488",
   "metadata": {},
   "outputs": [],
   "source": [
    "# 1. Load in spikesorting data for pid\n",
    "from brainbox.io.one import SpikeSortingLoader\n",
    "from one.api import ONE\n",
    "import numpy as np\n",
    "one = ONE()\n",
    "\n",
    "eid='288bfbf3-3700-4abe-b6e4-130b5c541e61'\n",
    "pid='05ec6af9-6c83-422d-91a3-ba815fa65e92'\n",
    "\n",
    "ssl = SpikeSortingLoader(one=one, pid=pid)\n",
    "spikes, clusters, channels = ssl.load_spike_sorting()\n",
    "clusters = ssl.merge_clusters(spikes, clusters, channels)\n"
   ]
  },
  {
   "cell_type": "code",
   "execution_count": 3,
   "id": "c64cfca8",
   "metadata": {},
   "outputs": [
    {
     "name": "stdout",
     "output_type": "stream",
     "text": [
      "Total no. of clusters: (516,)\n",
      "Number of good clusters: (19,)\n"
     ]
    }
   ],
   "source": [
    "# 2. Evaluate the number of good clusters\n",
    "# The spikesortingloader loads data for all clusters (both mua and good) detected by the spikesorter.\n",
    "# We can restrict to only the good clusters by finding the clusters with a label of 1\n",
    "good_cluster_idx = clusters['label'] == 1\n",
    "clusters_good = {key:val[good_cluster_idx] for key, val in clusters.items()}\n",
    "\n",
    "all_clusters = clusters['label'].shape\n",
    "good_clusters = clusters_good['label'].shape\n",
    "print(f'Total no. of clusters: {all_clusters}')\n",
    "print(f'Number of good clusters: {good_clusters}')"
   ]
  },
  {
   "cell_type": "code",
   "execution_count": 4,
   "id": "50c7e839",
   "metadata": {},
   "outputs": [
    {
     "name": "stdout",
     "output_type": "stream",
     "text": [
      "ANcr2: 1\n",
      "CB: 3\n",
      "PRM: 4\n",
      "SPVC: 1\n",
      "SPVI: 6\n",
      "arb: 1\n",
      "sptV: 3\n"
     ]
    }
   ],
   "source": [
    "# 3. Find the location of clusters in brain\n",
    "# The location of the clusters can be found in the atlas_id (Allen CCF ids) or acronym attributes of the clusters object\n",
    "acronyms = clusters_good['acronym']\n",
    "unique_acronyms, count = np.unique(acronyms, return_counts=True)\n",
    "for a, c in zip(unique_acronyms, count):\n",
    "  print(f'{a}: {c}')"
   ]
  },
  {
   "cell_type": "code",
   "execution_count": 5,
   "id": "8b5489ca",
   "metadata": {},
   "outputs": [
    {
     "data": {
      "text/plain": [
       "True"
      ]
     },
     "execution_count": 5,
     "metadata": {},
     "output_type": "execute_result"
    }
   ],
   "source": [
    "# 4. Compute the firing rate of each cluster\n",
    "# The firing rate of each cluster can be found in the firing rate atrribute of the clusters object\n",
    "firing_rate = clusters_good['firing_rate']\n",
    "\n",
    "# To show the interaction between the clusters and the spikes object we will show how you can compute\n",
    "# the firing rate from the data\n",
    "\n",
    "# To compute the firing rate we first need to compute the number of spikes detected for each cluster\n",
    "n_spikes = np.empty((clusters_good['cluster_id'].shape))\n",
    "# Loop over the cluster ids\n",
    "for i, c in enumerate(clusters_good['cluster_id']):\n",
    "  # Find location where each cluster id is found in the spikes objects and get the sum \n",
    "  cidx = np.sum(spikes['clusters'] == c)\n",
    "  n_spikes[i] = cidx\n",
    "\n",
    "# To compute the firing rate we can divide the spike count by the total duration of the recording\n",
    "duration = np.max(spikes['times']) - np.min(spikes['times'])\n",
    "firing_rate_from_spikes = n_spikes / duration\n",
    "\n",
    "# Make sure that the values for firing rates are the same\n",
    "np.array_equal(firing_rate_from_spikes, firing_rate)"
   ]
  },
  {
   "cell_type": "code",
   "execution_count": 6,
   "id": "475f9d18",
   "metadata": {},
   "outputs": [
    {
     "name": "stderr",
     "output_type": "stream",
     "text": [
      "C:\\Users\\Karolina\\AppData\\Local\\Temp\\ipykernel_12908\\861508613.py:8: MatplotlibDeprecationWarning: The get_cmap function was deprecated in Matplotlib 3.7 and will be removed two minor releases later. Use ``matplotlib.colormaps[name]`` or ``matplotlib.colormaps.get_cmap(obj)`` instead.\n",
      "  mapper = cm.ScalarMappable(norm=norm, cmap=cm.get_cmap('hot'))\n",
      "C:\\Users\\Karolina\\AppData\\Local\\Temp\\ipykernel_12908\\861508613.py:17: MatplotlibDeprecationWarning: The get_cmap function was deprecated in Matplotlib 3.7 and will be removed two minor releases later. Use ``matplotlib.colormaps[name]`` or ``matplotlib.colormaps.get_cmap(obj)`` instead.\n",
      "  mapper = cm.ScalarMappable(norm=norm, cmap=cm.get_cmap('hot'))\n"
     ]
    },
    {
     "data": {
      "image/png": "[encoded data removed]",
      "text/plain": [
       "<Figure size 640x480 with 3 Axes>"
      ]
     },
     "metadata": {},
     "output_type": "display_data"
    }
   ],
   "source": [
    "# 5. Plot firing rate and brain locations\n",
    "import matplotlib.pyplot as plt\n",
    "from matplotlib import cm, colors\n",
    "from brainbox.ephys_plots import plot_brain_regions\n",
    "clusters_good.keys()\n",
    "\n",
    "norm = colors.Normalize(vmin=np.min(firing_rate), vmax=np.max(firing_rate), clip=True)\n",
    "mapper = cm.ScalarMappable(norm=norm, cmap=cm.get_cmap('hot'))\n",
    "firing_rate_cols = mapper.to_rgba(firing_rate)\n",
    "\n",
    "fig, axs = plt.subplots(1, 2)\n",
    "# Plot the brain regions through which the channels on the insertion pass\n",
    "plot_brain_regions(channels['atlas_id'], channel_depths=channels['axial_um'], ax=axs[0])\n",
    "# Plot scatter plot of cluster depths vs cluster amp with firing rate encoded in colour\n",
    "# Map firing rate values to colours\n",
    "norm = colors.Normalize(vmin=np.min(firing_rate), vmax=np.max(firing_rate), clip=True)\n",
    "mapper = cm.ScalarMappable(norm=norm, cmap=cm.get_cmap('hot'))\n",
    "firing_rate_cols = mapper.to_rgba(firing_rate)\n",
    "axs[1].scatter(clusters_good['amp_median'] * 1e6, clusters_good['depths'], c=firing_rate_cols)\n",
    "axs[1].set_xlabel('Amps (uV)')\n",
    "axs[1].get_yaxis().set_visible(False)\n",
    "# Add colorbar\n",
    "cbar = fig.colorbar(mapper, ax=axs[1])\n",
    "cbar.set_label('Firing rate (Hz)')"
   ]
  }
 ],
 "metadata": {
  "kernelspec": {
   "display_name": "Python 3 (ipykernel)",
   "language": "python",
   "name": "python3"
  },
  "language_info": {
   "codemirror_mode": {
    "name": "ipython",
    "version": 3
   },
   "file_extension": ".py",
   "mimetype": "text/x-python",
   "name": "python",
   "nbconvert_exporter": "python",
   "pygments_lexer": "ipython3",
   "version": "3.9.16"
  }
 },
 "nbformat": 4,
 "nbformat_minor": 5
}
